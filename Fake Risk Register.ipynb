{
 "cells": [
  {
   "cell_type": "code",
   "execution_count": 3,
   "id": "fcefb569",
   "metadata": {},
   "outputs": [
    {
     "name": "stdout",
     "output_type": "stream",
     "text": [
      "Collecting faker\n",
      "  Downloading Faker-20.1.0-py3-none-any.whl (1.7 MB)\n",
      "     ---------------------------------------- 1.7/1.7 MB 22.2 MB/s eta 0:00:00\n",
      "Requirement already satisfied: python-dateutil>=2.4 in c:\\users\\tomch\\anaconda3\\lib\\site-packages (from faker) (2.8.2)\n",
      "Requirement already satisfied: six>=1.5 in c:\\users\\tomch\\anaconda3\\lib\\site-packages (from python-dateutil>=2.4->faker) (1.16.0)\n",
      "Installing collected packages: faker\n",
      "Successfully installed faker-20.1.0\n"
     ]
    }
   ],
   "source": [
    "#install faker package\n",
    "! pip install faker"
   ]
  },
  {
   "cell_type": "code",
   "execution_count": 3,
   "id": "20cbaf54",
   "metadata": {},
   "outputs": [],
   "source": [
    "from faker import Faker\n",
    "import pandas as pd\n",
    "fake = Faker()"
   ]
  },
  {
   "cell_type": "code",
   "execution_count": 22,
   "id": "8dff2ec3",
   "metadata": {},
   "outputs": [
    {
     "name": "stdout",
     "output_type": "stream",
     "text": [
      "not\n"
     ]
    }
   ],
   "source": [
    "#fake word\n",
    "print(fake.word())"
   ]
  },
  {
   "cell_type": "code",
   "execution_count": 24,
   "id": "7ab9a28a",
   "metadata": {},
   "outputs": [
    {
     "name": "stdout",
     "output_type": "stream",
     "text": [
      "Press photographer\n"
     ]
    }
   ],
   "source": [
    "#fake job\n",
    "print(fake.job())"
   ]
  },
  {
   "cell_type": "code",
   "execution_count": 30,
   "id": "26fade22",
   "metadata": {},
   "outputs": [
    {
     "name": "stdout",
     "output_type": "stream",
     "text": [
      "2072\n"
     ]
    }
   ],
   "source": [
    "#fake number\n",
    "print(fake.random_number(digits=4))"
   ]
  },
  {
   "cell_type": "code",
   "execution_count": 23,
   "id": "ec0f28e7",
   "metadata": {},
   "outputs": [
    {
     "name": "stdout",
     "output_type": "stream",
     "text": [
      "Forward system civil front free early ability.\n"
     ]
    }
   ],
   "source": [
    "#fake sentence\n",
    "print(fake.sentence())"
   ]
  },
  {
   "cell_type": "code",
   "execution_count": 28,
   "id": "e3f2f905",
   "metadata": {},
   "outputs": [
    {
     "name": "stdout",
     "output_type": "stream",
     "text": [
      "Mother rich training police yeah who. Result name wonder child movie her leave act. Cover eight goal evening its inside board. Member religious bar today. Help national play ahead follow what almost. Friend give police wide this industry response. Head dog bad these. Serve hit fill trial. \n"
     ]
    }
   ],
   "source": [
    "#fake paragrpah\n",
    "def generate_fake_paragraph():\n",
    "    paragraph = \"\"\n",
    "    for x in range(8):\n",
    "        sentence = fake.sentence()\n",
    "        paragraph += sentence + \" \"\n",
    "    return paragraph\n",
    "print(generate_fake_paragraph())"
   ]
  },
  {
   "cell_type": "code",
   "execution_count": 4,
   "id": "584e84e8",
   "metadata": {},
   "outputs": [
    {
     "name": "stdout",
     "output_type": "stream",
     "text": [
      "JessicaSmith74@gmail.com\n"
     ]
    }
   ],
   "source": [
    "#fake email\n",
    "def generate_email():\n",
    "    email = \"\"\n",
    "    name = fake.name()\n",
    "    number = str(fake.random_number(digits=2))\n",
    "    email += name.replace(\" \", \"\") + number + \"@gmail.com\"\n",
    "    return email\n",
    "print(generate_email())"
   ]
  },
  {
   "cell_type": "code",
   "execution_count": 31,
   "id": "92831ca6",
   "metadata": {},
   "outputs": [
    {
     "name": "stdout",
     "output_type": "stream",
     "text": [
      "Data saved\n"
     ]
    }
   ],
   "source": [
    "Faker.seed()\n",
    "seed_value = 1234\n",
    "fake.seed_instance(seed_value)\n",
    "\n",
    "def generate_mid_sentence():\n",
    "    mid_sentence = \"\"\n",
    "    for x in range(2):\n",
    "        sentence = fake.sentence()\n",
    "        mid_sentence += sentence + \" \"\n",
    "    return mid_sentence\n",
    "\n",
    "def generate_fake_paragraph():\n",
    "    paragraph = \"\"\n",
    "    for x in range(8):\n",
    "        sentence = fake.sentence()\n",
    "        paragraph += sentence + \" \"\n",
    "    return paragraph\n",
    "\n",
    "def Riskscore():\n",
    "    #Inherent Risk\n",
    "    In_Likelihood = fake.random_element(elements=(1, 2, 3, 4, 5))\n",
    "    In_Impact = fake.random_element(elements=(1, 2, 3, 4, 5))\n",
    "    In_RiskScore = In_Likelihood * In_Impact\n",
    "    In_Likelihood_Worded = map_likelihood(In_Likelihood)\n",
    "    In_Impact_Worded = map_impact(In_Impact)\n",
    "    \n",
    "    #Residual Risk\n",
    "    Re_Likelihood = fake.random_element(elements = range(1, In_Likelihood+1)) \n",
    "    Re_Impact = fake.random_element(elements = range(1, In_Impact+1)) \n",
    "    Re_RiskScore = Re_Likelihood * Re_Impact  \n",
    "    Re_Likelihood_Worded = map_likelihood(Re_Likelihood)\n",
    "    Re_Impact_Worded = map_impact(Re_Impact) \n",
    "    \n",
    "    #Control Effectiveness\n",
    "    Control_effect = In_RiskScore - Re_RiskScore\n",
    "    Control_effect_Worded = map_Control(Control_effect)\n",
    "    \n",
    "                                    \n",
    "    return In_Likelihood_Worded, In_Impact_Worded, In_RiskScore, Re_Likelihood_Worded, Re_Impact_Worded, Re_RiskScore, Control_effect_Worded\n",
    "\n",
    "#Mapping score to words\n",
    "def map_likelihood(score):\n",
    "    if score == 1:\n",
    "        return \"1 - Rare\"\n",
    "    elif score == 2:\n",
    "        return \"2 - Unlikely\"\n",
    "    elif score == 3:\n",
    "        return \"3 - Possible\"\n",
    "    elif score == 4:\n",
    "        return \"4 - Likely\"\n",
    "    elif score == 5:\n",
    "        return \"5 - Almost Certain\"\n",
    "    \n",
    "def map_impact(score):\n",
    "    if score == 1:\n",
    "        return \"1 - Insignificant\"\n",
    "    elif score == 2:\n",
    "        return \"2 - Minor\"\n",
    "    elif score == 3:\n",
    "        return \"3 - Moderate\"\n",
    "    elif score == 4:\n",
    "        return \"4 - Major\"\n",
    "    elif score == 5:\n",
    "        return \"5 - Extreme\"\n",
    "    \n",
    "def map_Control(score):\n",
    "    if score <= 1:\n",
    "        return \"1 - None\"\n",
    "    elif score <= 4:\n",
    "        return \"2 - Mostly Ineffective\"\n",
    "    elif score <= 6:\n",
    "        return \"3 - Partially Effective\"\n",
    "    elif score <= 8:\n",
    "        return \"4 - Mostly Effective\"\n",
    "    elif score >= 9:\n",
    "        return \"5 - Fully Effective\"\n",
    "\n",
    "#Generate point form sentences\n",
    "def generate_pointform():\n",
    "    sentence1 = fake.sentence()\n",
    "    sentence2 = fake.sentence()\n",
    "    sentence3 = fake.sentence()\n",
    "    sentence4 = fake.sentence()\n",
    "    formatted_sentences = f\" • {sentence1.capitalize()}\\n • {sentence2.capitalize()}\\n • {sentence3.capitalize()}\\n • {sentence4.capitalize()}\"\n",
    "    return formatted_sentences\n",
    "\n",
    "#Generate action plan sentence \n",
    "def generate_actionplan():\n",
    "    sentence1 = fake.sentence()[0].lower() + fake.sentence()[1:]\n",
    "    sentence2 = fake.sentence()[0].lower() + fake.sentence()[1:]\n",
    "    formatted_sentences = f\" • Additional {sentence1.capitalize()}\\n • Additional {sentence2.capitalize()}\"\n",
    "    return formatted_sentences\n",
    "\n",
    "#Generate the fake risk register\n",
    "def create_risk(num_risk):\n",
    "    risk_list = []\n",
    "    for i in range(num_risk):\n",
    "        risk = {}\n",
    "        risk[\"Objective Category\"] = fake.word()\n",
    "        risk[\"Objective ID #\"] = fake.random_number(digits=4) \n",
    "        risk[\"Objective/Goal\"] = generate_mid_sentence()\n",
    "        risk[\"Risk Rank\"] = fake.random_element(elements=(1, 2, 3, 4, 5))\n",
    "        risk[\"Risk Name\"] = generate_mid_sentence()\n",
    "        risk[\"Risk Description\"] = generate_fake_paragraph()\n",
    "        risk[\"Risk ID #\"] = fake.random_number(digits=5) \n",
    "        risk[\"Risk Category\"] = fake.random_element(elements=(\"Strategic\", \"Operational\", \"Financial\", \"Regulatory\"))\n",
    "        risk[\"Risk Sub-Category\"] = fake.word() \n",
    "        risk[\"Risk Owner\"] = fake.name()\n",
    "        In_Likelihood_Worded, In_Impact_Worded, In_RiskScore, Re_Likelihood_Worded, Re_Impact_Worded, Re_RiskScore, Control_effect_Worded = Riskscore()\n",
    "        risk[\"Inherent Likelihood\"] = In_Likelihood_Worded\n",
    "        risk[\"Inherent Impact\"] = In_Impact_Worded\n",
    "        risk[\"Inherent Risk Score\"] = In_RiskScore\n",
    "        risk[\"Control Effectiveness\"] = Control_effect_Worded\n",
    "        risk[\"Residual Likelihood\"] = Re_Likelihood_Worded\n",
    "        risk[\"Residual Impact\"] = Re_Impact_Worded\n",
    "        risk[\"Residual Risk Score\"] = Re_RiskScore\n",
    "        risk[\"Residual Within Appetite?\"] = fake.random_element(elements=(\"Within\", \"Above\", \"Below\"))\n",
    "        risk[\"Root Causes\"] = generate_pointform()\n",
    "        risk[\"Pre-Event Mitigations (Controls)\"] = generate_pointform()\n",
    "        risk[\"Post-Event Mitigations\"] = generate_pointform()\n",
    "        risk[\"Consequences\"] = generate_pointform()\n",
    "        risk[\"Needed Action Plans\"] = generate_actionplan()\n",
    "        risk[\"Additional Notes\"] = generate_fake_paragraph()\n",
    "        risk_list.append(risk)\n",
    "    return pd.DataFrame(risk_list)\n",
    "\n",
    "#Number of risk in the fake risk register\n",
    "risk_df = create_risk(300)  \n",
    "\n",
    "# Save the DataFrame to a CSV file with explicit UTF-8 encoding\n",
    "risk_df.to_csv('Fake_Risk_Register.csv', encoding='utf-8-sig', index=False)  # Use 'utf-8-sig' to ensure correct encoding for Excel\n",
    "\n",
    "print(\"Data saved\")"
   ]
  }
 ],
 "metadata": {
  "kernelspec": {
   "display_name": "Python 3 (ipykernel)",
   "language": "python",
   "name": "python3"
  },
  "language_info": {
   "codemirror_mode": {
    "name": "ipython",
    "version": 3
   },
   "file_extension": ".py",
   "mimetype": "text/x-python",
   "name": "python",
   "nbconvert_exporter": "python",
   "pygments_lexer": "ipython3",
   "version": "3.9.13"
  }
 },
 "nbformat": 4,
 "nbformat_minor": 5
}
